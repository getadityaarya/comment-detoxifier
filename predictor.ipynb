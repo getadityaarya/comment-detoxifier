{
 "cells": [
  {
   "cell_type": "code",
   "execution_count": 2,
   "id": "8b821170",
   "metadata": {},
   "outputs": [
    {
     "name": "stdout",
     "output_type": "stream",
     "text": [
      "Result: Toxic\n",
      "\n",
      "Result: Toxic\n",
      "\n",
      "Result: Toxic\n",
      "\n",
      "Result: Toxic\n",
      "\n",
      "Result: Not Toxic\n",
      "\n",
      "Result: Toxic\n",
      "\n",
      "Result: Toxic\n",
      "\n",
      "Result: Toxic\n",
      "\n",
      "Result: Toxic\n",
      "\n",
      "Result: Not Toxic\n",
      "\n",
      "Result: Not Toxic\n",
      "\n",
      "Result: Not Toxic\n",
      "\n",
      "Result: Not Toxic\n",
      "\n",
      "Result: Not Toxic\n",
      "\n",
      "Result: Toxic\n",
      "\n",
      "Result: Toxic\n",
      "\n",
      "Exiting toxicity checker.\n"
     ]
    }
   ],
   "source": [
    "# Load the saved model\n",
    "import joblib\n",
    "\n",
    "model = joblib.load(\"Toxicity_classifier_v1.pkl\")\n",
    "\n",
    "# Function to test the model with user input\n",
    "def check_toxicity(comment):\n",
    "    prediction = model.predict([comment])[0]\n",
    "    return \"Toxic\" if prediction == 1 else \"Not Toxic\"\n",
    "\n",
    "# User input loop\n",
    "while True:\n",
    "    user_comment = input(\"Enter a comment to check toxicity (or type 'exit' to quit): \")\n",
    "    if user_comment.lower() == \"exit\":\n",
    "        print(\"Exiting toxicity checker.\")\n",
    "        break\n",
    "    result = check_toxicity(user_comment)\n",
    "    print(f\"Result: {result}\\n\")\n"
   ]
  },
  {
   "cell_type": "code",
   "execution_count": null,
   "id": "82bea89c",
   "metadata": {},
   "outputs": [],
   "source": []
  }
 ],
 "metadata": {
  "kernelspec": {
   "display_name": "base",
   "language": "python",
   "name": "python3"
  },
  "language_info": {
   "codemirror_mode": {
    "name": "ipython",
    "version": 3
   },
   "file_extension": ".py",
   "mimetype": "text/x-python",
   "name": "python",
   "nbconvert_exporter": "python",
   "pygments_lexer": "ipython3",
   "version": "3.12.7"
  }
 },
 "nbformat": 4,
 "nbformat_minor": 5
}
